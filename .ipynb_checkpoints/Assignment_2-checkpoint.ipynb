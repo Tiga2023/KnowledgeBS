{
 "cells": [
  {
   "cell_type": "code",
   "execution_count": null,
   "metadata": {
    "colab": {
     "base_uri": "https://localhost:8080/"
    },
    "id": "3F8ElOuWoYjz",
    "outputId": "04adfe02-26c0-4b83-e928-06460ed21c49"
   },
   "outputs": [
    {
     "name": "stdout",
     "output_type": "stream",
     "text": [
      "Downloading data from https://storage.googleapis.com/tensorflow/keras-applications/inception_v3/inception_v3_weights_tf_dim_ordering_tf_kernels.h5\n",
      "19161088/96112376 [====>.........................] - ETA: 5:22"
     ]
    }
   ],
   "source": [
    "import tensorflow as tf\n",
    "from tensorflow.keras.applications.inception_v3 import InceptionV3, preprocess_input\n",
    "\n",
    "# Load the pre-trained Inception V3 model\n",
    "model = InceptionV3(weights='imagenet')\n",
    "\n",
    "# Preprocess the model\n",
    "graph = tf.compat.v1.get_default_graph()"
   ]
  },
  {
   "cell_type": "code",
   "execution_count": 2,
   "metadata": {
    "colab": {
     "base_uri": "https://localhost:8080/"
    },
    "id": "8I-nCh4LseA8",
    "outputId": "b742312e-dfe7-4948-e165-539eae6bfadb"
   },
   "outputs": [
    {
     "name": "stdout",
     "output_type": "stream",
     "text": [
      "Mounted at /content/drive\n"
     ]
    }
   ],
   "source": [
    "!pip install opencv-python"
   ]
  },
  {
   "cell_type": "code",
   "execution_count": null,
   "metadata": {
    "colab": {
     "base_uri": "https://localhost:8080/"
    },
    "id": "yAR6cmK6oboy",
    "outputId": "591eff58-4b07-4752-b2b1-db22feb8ac0f"
   },
   "outputs": [
    {
     "metadata": {
      "tags": null
     },
     "name": "stdout",
     "output_type": "stream",
     "text": [
      " * Serving Flask app '__main__'\n",
      " * Debug mode: on\n"
     ]
    },
    {
     "metadata": {
      "tags": null
     },
     "name": "stderr",
     "output_type": "stream",
     "text": [
      "INFO:werkzeug:\u001b[31m\u001b[1mWARNING: This is a development server. Do not use it in a production deployment. Use a production WSGI server instead.\u001b[0m\n",
      " * Running on http://127.0.0.1:5000\n",
      "INFO:werkzeug:\u001b[33mPress CTRL+C to quit\u001b[0m\n",
      "INFO:werkzeug: * Restarting with stat\n"
     ]
    }
   ],
   "source": [
    "from flask import Flask, render_template, request, redirect, url_for\n",
    "import os\n",
    "import cv2\n",
    "import numpy as np\n",
    "from tensorflow.keras.preprocessing import image\n",
    "from tensorflow.keras.applications.inception_v3 import preprocess_input, decode_predictions\n",
    "\n",
    "app = Flask(__name__)\n",
    "\n",
    "@app.route('/')\n",
    "def index():\n",
    "    return render_template('C:/Users/Lenovo/Documents/KBS/index.html')\n",
    "\n",
    "@app.route('/', methods=['POST'])\n",
    "def upload_video():\n",
    "    # Get the file from the request\n",
    "    video_file = request.files['video_file']\n",
    "    \n",
    "    # Save the file to disk\n",
    "    video_path = os.path.join(app.config['UPLOAD_FOLDER'], video_file.filename)\n",
    "    video_file.save(video_path)\n",
    "\n",
    "    # Split the video into frames\n",
    "    frames = split_video(video_path)\n",
    "\n",
    "    # Feed the frames into the Inception V3 model\n",
    "    results = detect_objects(frames)\n",
    "\n",
    "    # Display the results\n",
    "    return render_template('C:/Users/Lenovo/Documents\\KBSs/Results.html', results=results)\n",
    "\n",
    "def split_video(video_path):\n",
    "    # Open the video file\n",
    "    cap = cv2.VideoCapture(video_path)\n",
    "\n",
    "    # Get the frame rate and number of frames\n",
    "    fps = cap.get(cv2.CAP_PROP_FPS)\n",
    "    num_frames = int(cap.get(cv2.CAP_PROP_FRAME_COUNT))\n",
    "\n",
    "    # Initialize an empty list to store the frames\n",
    "    frames = []\n",
    "\n",
    "    # Loop through each frame in the video\n",
    "    for i in range(num_frames):\n",
    "        # Read the frame\n",
    "        ret, frame = cap.read()\n",
    "\n",
    "        # Check if the frame was successfully read\n",
    "        if ret:\n",
    "            # Resize the frame to 224x224\n",
    "            resized_frame = cv2.resize(frame, (224, 224))\n",
    "\n",
    "            # Preprocess the frame for input to the Inception V3 model\n",
    "            preprocessed_frame = preprocess_input(resized_frame)\n",
    "\n",
    "            # Add the preprocessed frame to the list of frames\n",
    "            frames.append(preprocessed_frame)\n",
    "        else:\n",
    "            break\n",
    "\n",
    "    # Release the video file\n",
    "    cap.release()\n",
    "\n",
    "    # Convert the list of frames to a NumPy array\n",
    "    frames = np.array(frames)\n",
    "\n",
    "    return frames\n",
    "\n",
    "def detect_objects(frames):\n",
    "    # Load the pre-trained Inception V3 model\n",
    "    model = tf.keras.applications.InceptionV3(weights='imagenet')\n",
    "\n",
    "    # Make predictions on the frames\n",
    "    predictions = model.predict(frames)\n",
    "\n",
    "    # Decode the predictions\n",
    "    decoded_predictions = decode_predictions(predictions, top=3)\n",
    "\n",
    "    # Return the results\n",
    "    return decoded_predictions\n",
    "\n",
    "if __name__ == '__main__':\n",
    "    app.config['UPLOAD_FOLDER'] = 'uploads'\n",
    "    app.run(debug=True)"
   ]
  }
 ],
 "metadata": {
  "accelerator": "GPU",
  "colab": {
   "provenance": []
  },
  "gpuClass": "standard",
  "kernelspec": {
   "display_name": "Python 3 (ipykernel)",
   "language": "python",
   "name": "python3"
  },
  "language_info": {
   "codemirror_mode": {
    "name": "ipython",
    "version": 3
   },
   "file_extension": ".py",
   "mimetype": "text/x-python",
   "name": "python",
   "nbconvert_exporter": "python",
   "pygments_lexer": "ipython3",
   "version": "3.9.13"
  }
 },
 "nbformat": 4,
 "nbformat_minor": 1
}
